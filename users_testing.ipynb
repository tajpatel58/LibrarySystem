{
 "cells": [
  {
   "cell_type": "code",
   "execution_count": 1,
   "id": "eaaa2e14",
   "metadata": {},
   "outputs": [],
   "source": [
    "from models.user import User"
   ]
  },
  {
   "cell_type": "code",
   "execution_count": 2,
   "id": "e2c73be4",
   "metadata": {},
   "outputs": [],
   "source": [
    "name = 'Matt Murdock'\n",
    "date_of_birth = '16 June 1987'\n",
    "postcode = 'NY107JD'"
   ]
  },
  {
   "cell_type": "code",
   "execution_count": 3,
   "id": "5cb277ee",
   "metadata": {},
   "outputs": [],
   "source": [
    "person_one = User(name, date_of_birth, postcode)"
   ]
  },
  {
   "cell_type": "code",
   "execution_count": 4,
   "id": "3dd02467",
   "metadata": {},
   "outputs": [
    {
     "name": "stdout",
     "output_type": "stream",
     "text": [
      "<class 'models.user.User'>\n"
     ]
    }
   ],
   "source": [
    "print(type(person_one))"
   ]
  },
  {
   "cell_type": "code",
   "execution_count": 5,
   "id": "ea266309",
   "metadata": {},
   "outputs": [
    {
     "data": {
      "text/plain": [
       "'Matt Murdock'"
      ]
     },
     "execution_count": 5,
     "metadata": {},
     "output_type": "execute_result"
    }
   ],
   "source": [
    "person_one.name"
   ]
  },
  {
   "cell_type": "code",
   "execution_count": 7,
   "id": "2f83c7f8",
   "metadata": {},
   "outputs": [
    {
     "data": {
      "text/plain": [
       "'NY107JD'"
      ]
     },
     "execution_count": 7,
     "metadata": {},
     "output_type": "execute_result"
    }
   ],
   "source": [
    "person_one.postcode"
   ]
  },
  {
   "cell_type": "code",
   "execution_count": 9,
   "id": "ee3af389",
   "metadata": {},
   "outputs": [],
   "source": [
    "person_one.change_postcode('HK104HW')"
   ]
  },
  {
   "cell_type": "code",
   "execution_count": 10,
   "id": "57245efd",
   "metadata": {},
   "outputs": [
    {
     "data": {
      "text/plain": [
       "'HK104HW'"
      ]
     },
     "execution_count": 10,
     "metadata": {},
     "output_type": "execute_result"
    }
   ],
   "source": [
    "person_one.postcode"
   ]
  },
  {
   "cell_type": "code",
   "execution_count": null,
   "id": "0de7b2b9",
   "metadata": {},
   "outputs": [],
   "source": []
  }
 ],
 "metadata": {
  "kernelspec": {
   "display_name": "base",
   "language": "python",
   "name": "python3"
  },
  "language_info": {
   "codemirror_mode": {
    "name": "ipython",
    "version": 3
   },
   "file_extension": ".py",
   "mimetype": "text/x-python",
   "name": "python",
   "nbconvert_exporter": "python",
   "pygments_lexer": "ipython3",
   "version": "3.12.2"
  }
 },
 "nbformat": 4,
 "nbformat_minor": 5
}
