{
 "cells": [
  {
   "cell_type": "code",
   "execution_count": 1,
   "id": "cb8d4ba4",
   "metadata": {},
   "outputs": [],
   "source": [
    "# base) kaelenkaradia@Kaelens-MacBook-Air LibrarySystem % uv\n",
    "# shows the commands you can run to show you it is working"
   ]
  },
  {
   "cell_type": "code",
   "execution_count": 6,
   "id": "95caf349",
   "metadata": {},
   "outputs": [],
   "source": [
    "# (base) kaelenkaradia@Kaelens-MacBook-Air LibrarySystem % uv python list\n",
    "# lists all available python versions you can install and ones you have downloaded"
   ]
  },
  {
   "cell_type": "code",
   "execution_count": null,
   "id": "4b4a7ddd",
   "metadata": {},
   "outputs": [],
   "source": [
    "# (base) kaelenkaradia@Kaelens-MacBook-Air LibrarySystem % uv python install 3.8 \n",
    "# installs that version"
   ]
  },
  {
   "cell_type": "code",
   "execution_count": null,
   "id": "ec2e045d",
   "metadata": {},
   "outputs": [],
   "source": [
    "# search for particular versions- python find 3.8"
   ]
  },
  {
   "cell_type": "code",
   "execution_count": 5,
   "id": "b7b1e428",
   "metadata": {},
   "outputs": [],
   "source": [
    "# (base) kaelenkaradia@Kaelens-MacBook-Air LibrarySystem % uv run --python 3.9.21 uvtest.py\n",
    "# running script using particular version of python"
   ]
  },
  {
   "cell_type": "code",
   "execution_count": null,
   "id": "09698538",
   "metadata": {},
   "outputs": [],
   "source": []
  }
 ],
 "metadata": {
  "kernelspec": {
   "display_name": "base",
   "language": "python",
   "name": "python3"
  },
  "language_info": {
   "codemirror_mode": {
    "name": "ipython",
    "version": 3
   },
   "file_extension": ".py",
   "mimetype": "text/x-python",
   "name": "python",
   "nbconvert_exporter": "python",
   "pygments_lexer": "ipython3",
   "version": "3.12.2"
  }
 },
 "nbformat": 4,
 "nbformat_minor": 5
}
