{
 "cells": [
  {
   "cell_type": "code",
   "execution_count": 1,
   "id": "6af9e5cb",
   "metadata": {},
   "outputs": [
    {
     "name": "stdout",
     "output_type": "stream",
     "text": [
      "Dune by Frank Herbert, 412 pages, Year Published: 1972, ISBN: 735823903232, In Stock: True\n",
      "Harry Potter and the Order of the Pheonix by 1995, J.K Rowling pages, Year Published: 772, ISBN: 524251235, In Stock: True\n",
      "Making of Moden Britain by Andrew Marr, 1005 pages, Year Published: 2006, ISBN: 42382347823, In Stock: True\n",
      "Batman: Year One by Frank Miller, 264 pages, Year Published: 1990, ISBN: 243243657, In Stock: True\n"
     ]
    }
   ],
   "source": [
    "from models.books import Book\n",
    "books = [\n",
    "    Book(\"Dune\", \"Frank Herbert\", 412, 1972, \"735823903232\"),\n",
    "    Book(\"Harry Potter and the Order of the Pheonix\", 1995, \"J.K Rowling\", 772, \"524251235\"),\n",
    "    Book(\"Making of Moden Britain\", \"Andrew Marr\", 1005, 2006, \"42382347823\"),\n",
    "    Book(\"Batman: Year One\", \"Frank Miller\", 264, 1990, \"243243657\")\n",
    "]\n",
    "for book in books:\n",
    "    print(f\"{book.title} by {book.author}, {book.page_count} pages, Year Published: {book.year_published}, ISBN: {book.isbn}, In Stock: {book.in_stock}\")"
   ]
  },
  {
   "cell_type": "code",
   "execution_count": null,
   "id": "8366948d",
   "metadata": {},
   "outputs": [],
   "source": []
  }
 ],
 "metadata": {
  "kernelspec": {
   "display_name": ".venv",
   "language": "python",
   "name": "python3"
  },
  "language_info": {
   "codemirror_mode": {
    "name": "ipython",
    "version": 3
   },
   "file_extension": ".py",
   "mimetype": "text/x-python",
   "name": "python",
   "nbconvert_exporter": "python",
   "pygments_lexer": "ipython3",
   "version": "3.9.21"
  }
 },
 "nbformat": 4,
 "nbformat_minor": 5
}
