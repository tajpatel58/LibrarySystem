{
 "cells": [
  {
   "cell_type": "code",
   "execution_count": 14,
   "id": "eaaa2e14",
   "metadata": {},
   "outputs": [],
   "source": [
    "from models.user import User"
   ]
  },
  {
   "cell_type": "code",
   "execution_count": 15,
   "id": "e2c73be4",
   "metadata": {},
   "outputs": [],
   "source": [
    "name = 'Matt Murdock'\n",
    "date_of_birth = '16 June 1987'\n",
    "postcode = 'NY107JD'"
   ]
  },
  {
   "cell_type": "code",
   "execution_count": 16,
   "id": "5cb277ee",
   "metadata": {},
   "outputs": [],
   "source": [
    "person_one = User(name, date_of_birth, postcode)"
   ]
  },
  {
   "cell_type": "code",
   "execution_count": 17,
   "id": "3dd02467",
   "metadata": {},
   "outputs": [
    {
     "name": "stdout",
     "output_type": "stream",
     "text": [
      "<class 'models.user.User'>\n"
     ]
    }
   ],
   "source": [
    "print(type(person_one))"
   ]
  },
  {
   "cell_type": "code",
   "execution_count": 18,
   "id": "ea266309",
   "metadata": {},
   "outputs": [
    {
     "data": {
      "text/plain": [
       "'Matt Murdock'"
      ]
     },
     "execution_count": 18,
     "metadata": {},
     "output_type": "execute_result"
    }
   ],
   "source": [
    "person_one.name"
   ]
  },
  {
   "cell_type": "code",
   "execution_count": 19,
   "id": "2f83c7f8",
   "metadata": {},
   "outputs": [
    {
     "data": {
      "text/plain": [
       "'NY107JD'"
      ]
     },
     "execution_count": 19,
     "metadata": {},
     "output_type": "execute_result"
    }
   ],
   "source": [
    "person_one.postcode"
   ]
  },
  {
   "cell_type": "code",
   "execution_count": 20,
   "id": "ee3af389",
   "metadata": {},
   "outputs": [],
   "source": [
    "person_one.change_postcode('HK104HW')"
   ]
  },
  {
   "cell_type": "code",
   "execution_count": 21,
   "id": "57245efd",
   "metadata": {},
   "outputs": [
    {
     "data": {
      "text/plain": [
       "'HK104HW'"
      ]
     },
     "execution_count": 21,
     "metadata": {},
     "output_type": "execute_result"
    }
   ],
   "source": [
    "person_one.postcode"
   ]
  },
  {
   "cell_type": "code",
   "execution_count": 22,
   "id": "7fa8258b",
   "metadata": {},
   "outputs": [],
   "source": [
    "import re # import's python's regular expressions module \n",
    "# used to manipulate and match patterns in strings\n",
    "from datetime import datetime # used to format "
   ]
  },
  {
   "cell_type": "code",
   "execution_count": 23,
   "id": "0de7b2b9",
   "metadata": {},
   "outputs": [],
   "source": [
    "def standardize_date(input_date: str) -> str:\n",
    "    if '/' in input_date:\n",
    "        return input_date\n",
    "    "
   ]
  },
  {
   "cell_type": "code",
   "execution_count": 24,
   "id": "1a45be45",
   "metadata": {},
   "outputs": [],
   "source": [
    "from datetime import datetime\n",
    "\n",
    "def get_overdue_dates(date_list: list[str]) -> list[str]:\n",
    "    date_today = datetime.today().date()\n",
    "    overdue_dates = []\n",
    "\n",
    "    for input_date in date_list:\n",
    "        converted_date = datetime.strptime(input_date, \"%d/%m/%Y\").date()\n",
    "        if converted_date < date_today:\n",
    "            overdue_dates.append(input_date)\n",
    "\n",
    "    return overdue_dates"
   ]
  },
  {
   "cell_type": "code",
   "execution_count": 25,
   "id": "0ecb4ca4",
   "metadata": {},
   "outputs": [
    {
     "data": {
      "text/plain": [
       "['01/01/2024', '03/05/2025', '15/04/2025', '07/05/2025']"
      ]
     },
     "execution_count": 25,
     "metadata": {},
     "output_type": "execute_result"
    }
   ],
   "source": [
    "get_overdue_dates([\"01/01/2024\", \"03/05/2025\", \"15/04/2025\", \"07/05/2025\"])"
   ]
  },
  {
   "cell_type": "code",
   "execution_count": 26,
   "id": "af4356d3",
   "metadata": {},
   "outputs": [],
   "source": [
    "class Book:\n",
    "    def __init__(self, title: str, author: str, page_count: int, isbn: int, in_stock: bool = 'True'):\n",
    "        self.title = title\n",
    "        self.author = author\n",
    "        self.page_count = page_count\n",
    "        self.isbn = isbn\n",
    "        self.in_stock = in_stock"
   ]
  },
  {
   "cell_type": "code",
   "execution_count": 27,
   "id": "d1a82255",
   "metadata": {},
   "outputs": [
    {
     "name": "stdout",
     "output_type": "stream",
     "text": [
      "<__main__.Book object at 0x10555aae0>\n"
     ]
    }
   ],
   "source": [
    "book = Book(title=\"1984\", author=\"George Orwell\", page_count=328, isbn=\"1234567890\")\n",
    "print(book)"
   ]
  },
  {
   "cell_type": "markdown",
   "id": "acc1f524",
   "metadata": {},
   "source": []
  },
  {
   "cell_type": "code",
   "execution_count": 28,
   "id": "109964c0",
   "metadata": {},
   "outputs": [],
   "source": [
    "from datetime import datetime"
   ]
  },
  {
   "cell_type": "code",
   "execution_count": 29,
   "id": "dcda3028",
   "metadata": {},
   "outputs": [
    {
     "name": "stdout",
     "output_type": "stream",
     "text": [
      "June\n"
     ]
    }
   ],
   "source": [
    "import datetime\n",
    "\n",
    "x = datetime.datetime(2018, 6, 1)\n",
    "\n",
    "print(x.strftime(\"%B\"))"
   ]
  },
  {
   "cell_type": "code",
   "execution_count": 30,
   "id": "d95cd9dc",
   "metadata": {},
   "outputs": [
    {
     "name": "stdout",
     "output_type": "stream",
     "text": [
      "<class 'datetime.datetime'>\n",
      "2011-03-11 00:00:00\n"
     ]
    }
   ],
   "source": [
    "from datetime import datetime\n",
    "my_date_string = \"Mar 11 2011\"\n",
    "\n",
    "datetime_object = datetime.strptime(my_date_string, '%b %d %Y')\n",
    "\n",
    "print(type(datetime_object))\n",
    "print(datetime_object)"
   ]
  },
  {
   "cell_type": "code",
   "execution_count": 31,
   "id": "06610fb8",
   "metadata": {},
   "outputs": [],
   "source": [
    "import re\n",
    "from datetime import datetime"
   ]
  },
  {
   "cell_type": "code",
   "execution_count": 32,
   "id": "61d125f5",
   "metadata": {},
   "outputs": [],
   "source": [
    "def standardize_date(input_date: str) -> str:\n",
    "    if '/' in input_date:\n",
    "        return input_date\n",
    "    suffixes = ['ST', 'TH', 'RD', 'ND', 'st', 'th', 'rd', 'nd']\n",
    "    day, _, rest = input_date.partition(' ')\n",
    "    for sfx in suffixes:\n",
    "        if day.lower().endswith(sfx):\n",
    "            day = day.removesuffix(sfx)\n",
    "            break\n",
    "    date_obj = datetime.strptime(f\"{day} {rest}\", \"%d %B %Y\")\n",
    "    return date_obj.strftime(\"%d/%m/%Y\")"
   ]
  },
  {
   "cell_type": "code",
   "execution_count": 33,
   "id": "e33978d3",
   "metadata": {},
   "outputs": [
    {
     "name": "stdout",
     "output_type": "stream",
     "text": [
      "02/05/2025\n"
     ]
    }
   ],
   "source": [
    "print(standardize_date(\"2nd May 2025\"))"
   ]
  },
  {
   "cell_type": "code",
   "execution_count": 34,
   "id": "c17de295",
   "metadata": {},
   "outputs": [],
   "source": [
    "from datetime import datetime\n",
    "\n",
    "def standardize_date(input_date: str) -> str:\n",
    "    if '/' in input_date:\n",
    "        return input_date\n",
    "\n",
    "    suffixes = ['st', 'nd', 'rd', 'th']\n",
    "    day, _, rest = input_date.partition(' ') # splits string between day and month/year\n",
    "    for sfx in suffixes:\n",
    "        if day.lower().endswith(sfx):\n",
    "            day = day.removesuffix(sfx)\n",
    "            break\n",
    "\n",
    "    date_object = datetime.strptime(f\"{day} {rest}\", \"%d %B %Y\") # strp(time) converts the cleaned string into a datetime object\n",
    "    return date_object.strftime(\"%d/%m/%Y\") # strftime() turns the datetime object into a formatted string\n",
    "\n"
   ]
  },
  {
   "cell_type": "code",
   "execution_count": 35,
   "id": "d9beeb5d",
   "metadata": {},
   "outputs": [
    {
     "data": {
      "text/plain": [
       "'30/05/2025'"
      ]
     },
     "execution_count": 35,
     "metadata": {},
     "output_type": "execute_result"
    }
   ],
   "source": [
    "standardize_date(\"30th May 2025\")"
   ]
  },
  {
   "cell_type": "code",
   "execution_count": 36,
   "id": "87f28660",
   "metadata": {},
   "outputs": [],
   "source": [
    "from models.books import Book"
   ]
  },
  {
   "cell_type": "code",
   "execution_count": 37,
   "id": "0162a834",
   "metadata": {},
   "outputs": [],
   "source": [
    "def convert_to_books(book_dicts: list[dict]) -> list[Book]:\n",
    "    books_in_list = []\n",
    "    for book_dict in book_dicts:\n",
    "        book = Book(\n",
    "            title=book_dict[\"Title\"],\n",
    "            author=book_dict[\"Author\"],\n",
    "            page_count=book_dict[\"Page Count\"],\n",
    "            year_published=book_dict[\"Year\"],\n",
    "            isbn=book_dict[\"ISBN\"],\n",
    "            in_stock=book_dict[\"In Stock\"] if \"In Stock\" in book_dict else True\n",
    "        )\n",
    "        books_in_list.append(book)\n",
    "        return books_in_list"
   ]
  },
  {
   "cell_type": "code",
   "execution_count": 38,
   "id": "2389929c",
   "metadata": {},
   "outputs": [
    {
     "name": "stdout",
     "output_type": "stream",
     "text": [
      "1000\n"
     ]
    }
   ],
   "source": [
    "book_dicts = [\n",
    "    {\"Title\": \"1984\", \"Author\": \"George Orwell\", \"Page Count\": 1000, \"ISBN\" : \"111\", \"Year\" : 1936, \"Genre\" : \"Horror\"},\n",
    "    {\"Title\": \"Wealth Money Can't Buy\", \"Author\": \"Robin Sharma\", \"Page Count\": 100, \"ISBN\" : \"123\", \"Year\" : 2015, \"Genre\" : \"Lifestyle\"}\n",
    "]\n",
    "\n",
    "books = convert_to_books(book_dicts)\n",
    "print(books[0].page_count)  # Output: 1984"
   ]
  },
  {
   "cell_type": "code",
   "execution_count": 49,
   "id": "d3ec4b95",
   "metadata": {},
   "outputs": [],
   "source": [
    "# __str__ Method:\n",
    "# Method returns human-readable, string representation of object.\n",
    "# called by the print(), str() and format() functions.\n",
    "# person.py\n",
    "\n",
    "class Person:\n",
    "    def __init__(self, name, age):\n",
    "        self.name = name\n",
    "        self.age = age\n",
    "\n",
    "    def __str__(self):\n",
    "        return f\"I'm {self.name}, and I'm {self.age} years old.\"\n",
    "\n",
    "    def __repr__(self):\n",
    "        return f\"{type(self).__name__}(name='{self.name}', age={self.age})\"\n"
   ]
  },
  {
   "cell_type": "code",
   "execution_count": 55,
   "id": "59bc9d74",
   "metadata": {},
   "outputs": [
    {
     "name": "stdout",
     "output_type": "stream",
     "text": [
      "Book: 1984 by George Orwell in 1949\n"
     ]
    }
   ],
   "source": [
    "class Book:\n",
    "    def __init__(self, title: str, author: str, page_count: int, year_published: int, isbn: int, in_stock: bool = True):\n",
    "        self.title = title\n",
    "        self.author = author\n",
    "        self.page_count = page_count\n",
    "        self.year_published = year_published\n",
    "        self.isbn = isbn\n",
    "        self.in_stock = in_stock\n",
    "\n",
    "    def __str__(self):\n",
    "        return f\"Book: {self.title} by {self.author} in {self.year_published}\"\n",
    "\n",
    "book = Book(\"1984\", \"George Orwell\", 328, 1949, 1234567890)\n",
    "print(book)"
   ]
  },
  {
   "cell_type": "code",
   "execution_count": 54,
   "id": "13d0671f",
   "metadata": {},
   "outputs": [
    {
     "name": "stdout",
     "output_type": "stream",
     "text": [
      "User: Alice, DOB: 1990-05-01\n"
     ]
    }
   ],
   "source": [
    "class User:\n",
    "    def __init__(self, name: str, date_of_birth: str, postcode: str):\n",
    "        self.name = name\n",
    "        self.date_of_birth = date_of_birth\n",
    "        self.postcode = postcode\n",
    "\n",
    "\n",
    "    def __str__(self):\n",
    "        return f\"User: {self.name}, DOB: {self.date_of_birth}\"\n",
    "\n",
    "    user = User(\"Alice\", \"1990-05-01\", \"AB1 2CD\")\n",
    "    print(user)"
   ]
  },
  {
   "cell_type": "code",
   "execution_count": 56,
   "id": "7a486356",
   "metadata": {},
   "outputs": [],
   "source": [
    "def get_overdue_dates(date_list: list[str]) -> list[str]:\n",
    "    date_today = datetime.today().date()\n",
    "    overdue_dates = []\n",
    "\n",
    "    for input_date in date_list:\n",
    "        converted_date = datetime.strptime(input_date, \"%d/%m/%Y\").date()\n",
    "        if converted_date < date_today:\n",
    "            overdue_dates.append(input_date)\n",
    "\n",
    "    return overdue_dates"
   ]
  },
  {
   "cell_type": "code",
   "execution_count": 129,
   "id": "35b747cb",
   "metadata": {},
   "outputs": [
    {
     "name": "stdout",
     "output_type": "stream",
     "text": [
      "['01/01/2024', '03/05/2025', '15/04/2025', '12/03/2025']\n"
     ]
    }
   ],
   "source": [
    "from datetime import datetime\n",
    "\n",
    "def get_overdue_dates(date_list: list) -> list:\n",
    "    today_string = time.strftime(\"%d/%m/%Y\")\n",
    "    date_today = datetime.strptime(today_string, \"%d/%m/%Y\")\n",
    "    overdue_dates = []\n",
    "    \n",
    "    for input_date in date_list:\n",
    "        converted_date = datetime.strptime(input_date, \"%d/%m/%Y\")\n",
    "        if converted_date < date_today:\n",
    "            overdue_dates.append(input_date)\n",
    "        \n",
    "    return overdue_dates\n",
    "\n",
    "print(get_overdue_dates([\"01/01/2024\", \"03/05/2025\", \"15/04/2025\", \"18/08/2025\", \"21/11/2025\", \"12/03/2025\"]))\n"
   ]
  },
  {
   "cell_type": "code",
   "execution_count": 103,
   "id": "cf9cc5e7",
   "metadata": {},
   "outputs": [
    {
     "name": "stdout",
     "output_type": "stream",
     "text": [
      "18-06-2025\n"
     ]
    }
   ],
   "source": [
    "del print\n",
    "from datetime import datetime\n",
    "today_date = time.strftime(\"%d-%m-%Y\")\n",
    "print(today_date)"
   ]
  },
  {
   "cell_type": "code",
   "execution_count": null,
   "id": "048abd6d",
   "metadata": {},
   "outputs": [
    {
     "name": "stdout",
     "output_type": "stream",
     "text": [
      "2025-06-18\n",
      "18\n",
      "2025\n"
     ]
    }
   ],
   "source": [
    "# Notes\n",
    "from datetime import datetime\n",
    "current_date = datetime.now()\n",
    "print(date.today())\n",
    "print(current_date.day)\n",
    "print(current_date.year)\n"
   ]
  },
  {
   "cell_type": "code",
   "execution_count": 110,
   "id": "cbe1496c",
   "metadata": {},
   "outputs": [
    {
     "name": "stdout",
     "output_type": "stream",
     "text": [
      "18\n"
     ]
    }
   ],
   "source": [
    "print(current_date.strftime(\"%d\"))"
   ]
  },
  {
   "cell_type": "code",
   "execution_count": 130,
   "id": "6b830ad4",
   "metadata": {},
   "outputs": [
    {
     "name": "stdout",
     "output_type": "stream",
     "text": [
      "2022-12-31 00:00:00\n",
      "31\n"
     ]
    }
   ],
   "source": [
    "string_1 = '2022-12-31'\n",
    "date_1 = datetime.strptime(string_1, \"%Y-%m-%d\")\n",
    "print(date_1)\n",
    "print(date_1.day)"
   ]
  }
 ],
 "metadata": {
  "kernelspec": {
   "display_name": "base",
   "language": "python",
   "name": "python3"
  },
  "language_info": {
   "codemirror_mode": {
    "name": "ipython",
    "version": 3
   },
   "file_extension": ".py",
   "mimetype": "text/x-python",
   "name": "python",
   "nbconvert_exporter": "python",
   "pygments_lexer": "ipython3",
   "version": "3.12.2"
  }
 },
 "nbformat": 4,
 "nbformat_minor": 5
}
