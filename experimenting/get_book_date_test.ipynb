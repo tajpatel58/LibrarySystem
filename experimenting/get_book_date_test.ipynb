{
 "cells": [
  {
   "cell_type": "code",
   "execution_count": 1,
   "id": "ee3fcbbe",
   "metadata": {},
   "outputs": [
    {
     "ename": "ModuleNotFoundError",
     "evalue": "No module named 'models'",
     "output_type": "error",
     "traceback": [
      "\u001b[0;31m---------------------------------------------------------------------------\u001b[0m",
      "\u001b[0;31mModuleNotFoundError\u001b[0m                       Traceback (most recent call last)",
      "Cell \u001b[0;32mIn[1], line 1\u001b[0m\n\u001b[0;32m----> 1\u001b[0m \u001b[38;5;28;01mfrom\u001b[39;00m \u001b[38;5;21;01mmodels\u001b[39;00m\u001b[38;5;21;01m.\u001b[39;00m\u001b[38;5;21;01mbooks\u001b[39;00m \u001b[38;5;28;01mimport\u001b[39;00m Book\n\u001b[1;32m      3\u001b[0m \u001b[38;5;28;01mdef\u001b[39;00m \u001b[38;5;21mconvert_to_books\u001b[39m(book_dicts: \u001b[38;5;28mlist\u001b[39m[\u001b[38;5;28mdict\u001b[39m]) \u001b[38;5;241m-\u001b[39m\u001b[38;5;241m>\u001b[39m \u001b[38;5;28mlist\u001b[39m[Book]:\n\u001b[1;32m      4\u001b[0m     books_in_list \u001b[38;5;241m=\u001b[39m []\n",
      "\u001b[0;31mModuleNotFoundError\u001b[0m: No module named 'models'"
     ]
    }
   ],
   "source": [
    "from models.books import Book\n",
    "\n",
    "def convert_to_books(book_dicts: list[dict]) -> list[Book]:\n",
    "    books_in_list = []\n",
    "    for book_dict in book_dicts:\n",
    "        book = Book(\n",
    "            title=book_dict[\"Title\"],\n",
    "            author=book_dict[\"Author\"],\n",
    "            page_count=book_dict[\"Page Count\"],\n",
    "            year_published=book_dict[\"Year\"],\n",
    "            isbn=book_dict[\"ISBN\"],\n",
    "            in_stock=book_dict[\"In Stock\"] if \"In Stock\" in book_dict else True\n",
    "        )\n",
    "        books_in_list.append(book)\n",
    "        return books_in_list"
   ]
  }
 ],
 "metadata": {
  "kernelspec": {
   "display_name": "base",
   "language": "python",
   "name": "python3"
  },
  "language_info": {
   "codemirror_mode": {
    "name": "ipython",
    "version": 3
   },
   "file_extension": ".py",
   "mimetype": "text/x-python",
   "name": "python",
   "nbconvert_exporter": "python",
   "pygments_lexer": "ipython3",
   "version": "3.12.2"
  }
 },
 "nbformat": 4,
 "nbformat_minor": 5
}
