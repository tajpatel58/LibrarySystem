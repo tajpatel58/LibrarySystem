{
 "cells": [
  {
   "cell_type": "code",
   "execution_count": 4,
   "id": "ee3fcbbe",
   "metadata": {},
   "outputs": [
    {
     "name": "stdout",
     "output_type": "stream",
     "text": [
      "1000\n"
     ]
    }
   ],
   "source": [
    "import sys\n",
    "import os\n",
    "\n",
    "# Assuming the root directory of your project is one level above the notebook\n",
    "sys.path.append(os.path.abspath('..'))\n",
    "\n",
    "from models.books import Book\n",
    "\n",
    "def convert_to_books(book_dicts: list[dict]) -> list[Book]:\n",
    "    books_in_list = []\n",
    "    for book_dict in book_dicts:\n",
    "        book = Book(\n",
    "            title=book_dict[\"Title\"],\n",
    "            author=book_dict[\"Author\"],\n",
    "            page_count=book_dict[\"Page Count\"],\n",
    "            year_published=book_dict[\"Year\"],\n",
    "            isbn=book_dict[\"ISBN\"],\n",
    "            in_stock=book_dict[\"In Stock\"] if \"In Stock\" in book_dict else True\n",
    "        )\n",
    "        books_in_list.append(book)\n",
    "        return books_in_list\n",
    "\n",
    "book_dicts = [\n",
    "    {\"Title\": \"1984\", \"Author\": \"George Orwell\", \"Page Count\": 1000, \"ISBN\" : \"111\", \"Year\" : 1936, \"Genre\" : \"Horror\"},\n",
    "    {\"Title\": \"Wealth Money Can't Buy\", \"Author\": \"Robin Sharma\", \"Page Count\": 100, \"ISBN\" : \"123\", \"Year\" : 2015, \"Genre\" : \"Lifestyle\"}\n",
    "]\n",
    "\n",
    "books = convert_to_books(book_dicts)\n",
    "print(books[0].page_count)  # Output: 1984"
   ]
  },
  {
   "cell_type": "code",
   "execution_count": null,
   "id": "fe5e06de",
   "metadata": {},
   "outputs": [],
   "source": []
  }
 ],
 "metadata": {
  "kernelspec": {
   "display_name": "base",
   "language": "python",
   "name": "python3"
  },
  "language_info": {
   "codemirror_mode": {
    "name": "ipython",
    "version": 3
   },
   "file_extension": ".py",
   "mimetype": "text/x-python",
   "name": "python",
   "nbconvert_exporter": "python",
   "pygments_lexer": "ipython3",
   "version": "3.12.2"
  }
 },
 "nbformat": 4,
 "nbformat_minor": 5
}
